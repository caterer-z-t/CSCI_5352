{
 "cells": [
  {
   "cell_type": "markdown",
   "metadata": {},
   "source": [
    "5. (45 pts total) In this question, we will investigate the statistical properties of online social networks by analyzing the Facebook100 (“FB100”) data set (download from the class Canvas). Each of the 100 plaintext ASCII files in the FB100 folder contains an edge list for a 2005 snapshot of a Facebook social network among university students and faculty within some\n",
    "university. Interpret this edge list as a simple graph. "
   ]
  },
  {
   "cell_type": "markdown",
   "metadata": {},
   "source": [
    "(a) (10 pts) For each of the FB100 networks, calculate the mean degree $〈k〉$ and then make a nice histogram figure showing the empirical distribution of mean degree. Comment on the range of $〈k〉$ you find, and whether it agrees or disagrees with your intuition, given what you know about these schools (feel free to look a few up to learn something about\n",
    "them).\n",
    "\n",
    "*Hint*: If you use a standard histogram plotting function, don’t use the default number of bins (often just 10). Instead, set the bin width equal to $c,$ for some small-ish integer $c$"
   ]
  },
  {
   "cell_type": "code",
   "execution_count": 1,
   "metadata": {},
   "outputs": [],
   "source": [
    "# imports\n",
    "import networkx as nx\n",
    "import glob\n",
    "import pandas as pd\n",
    "import numpy as np\n",
    "from plotnine import *\n",
    "from collections import deque"
   ]
  },
  {
   "cell_type": "code",
   "execution_count": 2,
   "metadata": {},
   "outputs": [],
   "source": [
    "def calculate_paradox_ratio(G):\n",
    "    # Calculate node degrees\n",
    "    degrees = dict(G.degree())\n",
    "\n",
    "    # Calculate mean squared degree\n",
    "    mean_squared_degree = np.mean([d**2 for d in degrees.values()])\n",
    "\n",
    "    # Calculate mean degree\n",
    "    mean_degree = np.mean(list(degrees.values()))\n",
    "\n",
    "    # Mean neighbor degree calculation\n",
    "    mean_neighbor_degree = mean_squared_degree / mean_degree\n",
    "\n",
    "    # Paradox ratio calculation\n",
    "    paradox_ratios = {}\n",
    "    for node in G.nodes():\n",
    "        # Get neighbors' degrees\n",
    "        neighbor_degrees = [degrees[neighbor] for neighbor in G.neighbors(node)]\n",
    "\n",
    "        # Mean of neighbor degrees\n",
    "        if neighbor_degrees:\n",
    "            mean_neighbor_degree_for_node = np.mean(neighbor_degrees)\n",
    "            paradox_ratios[node] = mean_neighbor_degree_for_node / degrees[node]\n",
    "\n",
    "    # Overall network paradox ratio\n",
    "    overall_paradox_ratio = mean_neighbor_degree / mean_degree\n",
    "\n",
    "    return {\n",
    "        \"mean_degree\": mean_degree,\n",
    "        \"mean_neighbor_degree\": mean_neighbor_degree,\n",
    "        \"overall_paradox_ratio\": overall_paradox_ratio,\n",
    "        \"node_paradox_ratios\": paradox_ratios,\n",
    "    }"
   ]
  },
  {
   "cell_type": "code",
   "execution_count": 3,
   "metadata": {},
   "outputs": [
    {
     "name": "stdout",
     "output_type": "stream",
     "text": [
      "Error processing facebook100txt/facebook100_readme_aaron.txt: Failed to convert nodes Readme,for to type <class 'int'>.\n",
      "Error processing facebook100txt/facebook100_readme_021011.txt: Failed to convert nodes Readme,for to type <class 'int'>.\n"
     ]
    }
   ],
   "source": [
    "# Read all files in the FB100 directory\n",
    "network_files = glob.glob(\"facebook100txt/*.txt\")\n",
    "\n",
    "# Remove all attribute files\n",
    "network_files = [file for file in network_files if \"attr\" not in file]\n",
    "\n",
    "# Process each network file\n",
    "results = []\n",
    "for file in network_files:\n",
    "    try:\n",
    "        # Load the graph\n",
    "        G = nx.read_edgelist(file, nodetype=int, comments=\"id\")\n",
    "\n",
    "        # Extract network name from filename\n",
    "        network_name = file.split(\"/\")[-1].split(\".\")[0]\n",
    "\n",
    "        # Calculate paradox metrics\n",
    "        paradox_metrics = calculate_paradox_ratio(G)\n",
    "\n",
    "        # Store results\n",
    "        result = {\n",
    "            \"network\": network_name,\n",
    "            \"mean_degree\": paradox_metrics[\"mean_degree\"],\n",
    "            \"paradox_ratio\": paradox_metrics[\"overall_paradox_ratio\"],\n",
    "        }\n",
    "        results.append(result)\n",
    "\n",
    "    except Exception as e:\n",
    "        print(f\"Error processing {file}: {e}\")\n",
    "\n",
    "# Convert to DataFrame\n",
    "results_df = pd.DataFrame(results)"
   ]
  },
  {
   "cell_type": "code",
   "execution_count": 4,
   "metadata": {},
   "outputs": [
    {
     "name": "stderr",
     "output_type": "stream",
     "text": [
      "/opt/anaconda3/envs/networks/lib/python3.12/site-packages/plotnine/ggplot.py:615: PlotnineWarning: Saving 6.4 x 4.8 in image.\n",
      "/opt/anaconda3/envs/networks/lib/python3.12/site-packages/plotnine/ggplot.py:616: PlotnineWarning: Filename: figures/mean_degree_histogram.png\n"
     ]
    }
   ],
   "source": [
    "# Convert mean degrees to a DataFrame\n",
    "df = pd.DataFrame({\"Mean_Degree\": results_df[\"mean_degree\"]})\n",
    "\n",
    "bin_width = 2\n",
    "bins = range(0, int(max(results_df['mean_degree'])) + bin_width, bin_width)\n",
    "\n",
    "\n",
    "# Create the histogram using plotnine\n",
    "plot = (\n",
    "    ggplot(df, aes(x=\"Mean_Degree\"))\n",
    "    + geom_histogram(binwidth=bin_width, fill=\"skyblue\", color=\"black\")\n",
    "    + labs(\n",
    "        title=\"Histogram of Mean Degree for Facebook 100 Networks\",\n",
    "        x=r\"Mean Degree $(\\langle k \\rangle)$\",\n",
    "        y=\"Frequency\",\n",
    "    )\n",
    "    + theme_minimal()\n",
    "    # + theme(panel_background=element_rect(fill=\"white\"))\n",
    ")\n",
    "\n",
    "# Display the plot\n",
    "plot.save(\"figures/mean_degree_histogram.png\")"
   ]
  },
  {
   "cell_type": "markdown",
   "metadata": {},
   "source": [
    "(c) (15 pts) Using all of the FB100 networks, make a figure showing a scatterplot of the\n",
    "size of the paradox, defined as the ratio $\\frac{〈kv〉}{〈ku〉}$ , as a function of the mean degree $〈ku〉$. Include a horizontal line representing the line of “no paradox,” and label the nodes corresponding to Reed, Colgate, Mississippi, Virginia, and UC Berkeley. (Remember: figures without axes labels will receive no credit.)\n",
    "\n",
    "Now comment on (i) the degree to which we do or do not observe a friendship paradox\n",
    "across these networks as a group, and on what makes the five labeled points notable, and\n",
    "(ii) whether there is any dependency between the size of the paradox and the network’s\n",
    "mean degree.\n",
    "\n",
    "(5 pts extra credit) Explain why we should, in fact, expect to see a friendship paradox\n",
    "in these networks, in terms of the conditions under which we should expect to see no\n",
    "paradox"
   ]
  },
  {
   "cell_type": "markdown",
   "metadata": {},
   "source": [
    "Equation derived in Question 5, part b\n",
    "\n",
    "$ \\langle k_v \\rangle = \\frac{\\langle k^2 \\rangle}{\\langle k \\rangle}$"
   ]
  },
  {
   "cell_type": "code",
   "execution_count": 5,
   "metadata": {},
   "outputs": [
    {
     "name": "stdout",
     "output_type": "stream",
     "text": [
      "Virginia63\n",
      "Colgate88\n",
      "Mississippi66\n",
      "Reed98\n"
     ]
    }
   ],
   "source": [
    "target_schools = [\"Reed\", \"Colgate\", \"Mississippi\", \"Virginia\", \"UC Berkeley\"]\n",
    "for school in results_df[\"network\"]:\n",
    "    for target in target_schools:\n",
    "        if target.lower() in school.lower():\n",
    "            print(school)\n",
    "\n",
    "# Lets rename these schools to make them more readable\n",
    "results_df[\"network\"] = results_df[\"network\"].replace(\n",
    "    {\n",
    "        \"Reed98\": \"Reed\",\n",
    "        \"Colgate88\": \"Colgate\",\n",
    "        \"Mississippi66\": \"Mississippi\",\n",
    "        \"Virginia63\": \"Virginia\",\n",
    "        \"Berkeley13\": \"UC Berkeley\",\n",
    "    }\n",
    ")\n",
    "\n",
    "# Lets add another column to the dataframe to indicate if the school is a target school\n",
    "# Lets make this column the name of the school so we can color the points in the plot\n",
    "results_df[\"school\"] = results_df[\"network\"].apply(\n",
    "    lambda x: x if x in target_schools else \"Other\"\n",
    ")\n",
    "\n",
    "results_df['target_school'] = results_df['network'].apply(lambda x: x in target_schools)"
   ]
  },
  {
   "cell_type": "code",
   "execution_count": 6,
   "metadata": {},
   "outputs": [
    {
     "name": "stderr",
     "output_type": "stream",
     "text": [
      "/opt/anaconda3/envs/networks/lib/python3.12/site-packages/plotnine/ggplot.py:615: PlotnineWarning: Saving 6.4 x 4.8 in image.\n",
      "/opt/anaconda3/envs/networks/lib/python3.12/site-packages/plotnine/ggplot.py:616: PlotnineWarning: Filename: figures/paradox_ratio_plot.png\n",
      "/opt/anaconda3/envs/networks/lib/python3.12/site-packages/plotnine/scales/scale_size.py:46: PlotnineWarning: Using size for a discrete variable is not advised.\n"
     ]
    }
   ],
   "source": [
    "plot = (\n",
    "    ggplot(\n",
    "        results_df,\n",
    "        aes(x=\"mean_degree\", y=\"paradox_ratio\", color=\"school\", size=\"target_school\"),\n",
    "    )\n",
    "    + geom_point()\n",
    "    + geom_hline(yintercept=1, linetype=\"dashed\", color=\"red\")\n",
    "    + labs(\n",
    "        x=r\"Mean Degree $\\langle k_u \\rangle$\",\n",
    "        y=r\"Paradox Ratio $\\frac{\\langle k_{v} \\rangle}{\\langle k_{u} \\rangle}$\",\n",
    "        title=\"Friendship Paradox across Facebook 100 Networks\",\n",
    "    )\n",
    "    + theme_minimal()\n",
    "    + theme(legend_position=\"none\")  # Remove legend\n",
    "    + geom_text(\n",
    "        data=results_df[results_df[\"target_school\"] == True],\n",
    "        mapping=aes(label=\"school\"),\n",
    "        nudge_x=0,\n",
    "        nudge_y=0.1,\n",
    "        size = 8\n",
    "    )\n",
    "    + geom_text(\n",
    "        # include text over line of no paradox\n",
    "        data=pd.DataFrame({\n",
    "            \"x\": (max(results_df[\"mean_degree\"] - min(results_df[\"mean_degree\"])) / 2) + min(results_df[\"mean_degree\"]),\n",
    "            \"y\": [1], \n",
    "            \"label\": [\"Line of No Paradox\"]}),\n",
    "        mapping=aes(x=\"x\", y=\"y\", label=\"label\"),\n",
    "        nudge_x=0.5,\n",
    "        nudge_y=0.05,\n",
    "        size = 8,\n",
    "        color = \"red\"\n",
    "    )\n",
    ")\n",
    "\n",
    "plot.save(\"figures/paradox_ratio_plot.png\")"
   ]
  },
  {
   "cell_type": "markdown",
   "metadata": {},
   "source": [
    "(e) (20 pts extra credit) Most social networks also have very small diameters relative to their total size. This property is sometimes called the “small-world phenomenon” and is the origin of the popular phrase “six degrees of separation”.\n",
    "\n",
    "- For each FB100 network, compute (i) the diameter $\\ell_{max}$ of the largest component of the network and (ii) the mean geodesic distance $\\langle \\ell \\rangle$ between pairs of vertices in\n",
    "the largest component of the network. Make two ﬁgures, one showing $\\ell_{max}$ versus network size $n$ and one showing $\\langle \\ell \\rangle$ versus the size of the largest component $n$. Comment on the degree to which these ﬁgures support the six-degrees of separation idea.\n",
    "\n",
    "*Hint*: it’s okay to use a library function to compute $\\ell_{max}$ and $\\langle \\ell \\rangle$, but it’ll be a slow calculation.\n",
    "\n",
    "- Brieﬂy discuss whether and why you think the diameter of Facebook has increased, stayed the same, or decreased relative to these values, since 2005. (Recall that Facebook now claims to have roughly $10^9$ accounts.)"
   ]
  },
  {
   "cell_type": "code",
   "execution_count": 8,
   "metadata": {},
   "outputs": [],
   "source": [
    "def read_edgelist(file):\n",
    "    \"\"\"Read an edge list file and return an adjacency list representation.\"\"\"\n",
    "    adjacency_list = {}\n",
    "\n",
    "    with open(file) as f:\n",
    "        for line in f:\n",
    "            v1, v2 = map(int, line.split())\n",
    "            # Add both directions since Facebook connections are undirected\n",
    "            adjacency_list.setdefault(v1, set()).add(v2)\n",
    "            adjacency_list.setdefault(v2, set()).add(v1)\n",
    "\n",
    "    return adjacency_list\n",
    "\n",
    "\n",
    "def bfs_with_distances(graph, start):\n",
    "    \"\"\"\n",
    "    Performs BFS and returns both visited nodes and their distances from start.\n",
    "    Returns:\n",
    "        - set of visited nodes\n",
    "        - dict of distances to each node\n",
    "    \"\"\"\n",
    "    visited = set()\n",
    "    distances = {start: 0}\n",
    "    queue = deque([start])\n",
    "\n",
    "    while queue:\n",
    "        node = queue.popleft()\n",
    "        if node not in visited:\n",
    "            visited.add(node)\n",
    "\n",
    "            for neighbor in graph[node]:\n",
    "                if neighbor not in visited:\n",
    "                    queue.append(neighbor)\n",
    "                    if neighbor not in distances:\n",
    "                        distances[neighbor] = distances[node] + 1\n",
    "\n",
    "    return visited, distances\n",
    "\n",
    "\n",
    "def find_largest_component(graph):\n",
    "    \"\"\"Find the largest connected component in the graph.\"\"\"\n",
    "    visited_all = set()\n",
    "    largest_component = set()\n",
    "\n",
    "    for node in graph:\n",
    "        if node not in visited_all:\n",
    "            component, _ = bfs_with_distances(graph, node)\n",
    "            visited_all.update(component)\n",
    "\n",
    "            if len(component) > len(largest_component):\n",
    "                largest_component = component\n",
    "\n",
    "    return largest_component\n",
    "\n",
    "\n",
    "def compute_network_metrics(graph):\n",
    "    \"\"\"\n",
    "    Compute diameter and mean geodesic distance for the largest component.\n",
    "    Returns:\n",
    "        - size of largest component\n",
    "        - diameter\n",
    "        - mean geodesic distance\n",
    "    \"\"\"\n",
    "    largest_component = find_largest_component(graph)\n",
    "\n",
    "    # Pick arbitrary start node for first BFS\n",
    "    start_node = next(iter(largest_component))\n",
    "    _, distances = bfs_with_distances(graph, start_node)\n",
    "\n",
    "    # Find the furthest node\n",
    "    max_dist_node = max(distances.items(), key=lambda x: x[1])[0]\n",
    "\n",
    "    # Run BFS from furthest node to get diameter\n",
    "    _, final_distances = bfs_with_distances(graph, max_dist_node)\n",
    "    diameter = max(final_distances.values())\n",
    "\n",
    "    # Calculate mean geodesic distance\n",
    "    total_distance = sum(final_distances.values())\n",
    "    num_pairs = len(final_distances)\n",
    "    mean_geodesic = total_distance / num_pairs\n",
    "\n",
    "    return len(largest_component), diameter, mean_geodesic\n",
    "\n",
    "\n",
    "def analyze_networks(network_files):\n",
    "    \"\"\"Analyze all networks and create visualization.\"\"\"\n",
    "    results = []\n",
    "\n",
    "    for file in network_files:\n",
    "        try:\n",
    "            graph = read_edgelist(file)\n",
    "            component_size, diameter, mean_geodesic = compute_network_metrics(graph)\n",
    "            results.append(\n",
    "                {\n",
    "                    \"file\": file,\n",
    "                    \"component_size\": component_size,\n",
    "                    \"diameter\": diameter,\n",
    "                    \"mean_geodesic\": mean_geodesic,\n",
    "                }\n",
    "            )\n",
    "        except Exception as e:\n",
    "            print(f\"Error processing {file}: {e}\")\n",
    "\n",
    "    return results"
   ]
  },
  {
   "cell_type": "code",
   "execution_count": 9,
   "metadata": {},
   "outputs": [
    {
     "name": "stdout",
     "output_type": "stream",
     "text": [
      "Error processing facebook100txt/facebook100_readme_aaron.txt: invalid literal for int() with base 10: 'Readme'\n",
      "Error processing facebook100txt/facebook100_readme_021011.txt: invalid literal for int() with base 10: 'Readme'\n"
     ]
    }
   ],
   "source": [
    "network_results = analyze_networks(network_files)"
   ]
  },
  {
   "cell_type": "code",
   "execution_count": 10,
   "metadata": {},
   "outputs": [
    {
     "name": "stderr",
     "output_type": "stream",
     "text": [
      "/opt/anaconda3/envs/networks/lib/python3.12/site-packages/plotnine/ggplot.py:615: PlotnineWarning: Saving 6.4 x 4.8 in image.\n",
      "/opt/anaconda3/envs/networks/lib/python3.12/site-packages/plotnine/ggplot.py:616: PlotnineWarning: Filename: figures/diameter_vs_size.png\n",
      "/opt/anaconda3/envs/networks/lib/python3.12/site-packages/plotnine/ggplot.py:615: PlotnineWarning: Saving 6.4 x 4.8 in image.\n",
      "/opt/anaconda3/envs/networks/lib/python3.12/site-packages/plotnine/ggplot.py:616: PlotnineWarning: Filename: figures/mean_geodesic_distance_vs_size.png\n"
     ]
    }
   ],
   "source": [
    "# lets make ggplots for network diameter vs size and mean geodesic distance vs size\n",
    "# Convert to DataFrame\n",
    "results_df = pd.DataFrame(network_results)\n",
    "\n",
    "# Plot diameter vs network size\n",
    "plot = (\n",
    "    ggplot(\n",
    "        results_df,\n",
    "        aes(x=\"factor(diameter)\", y=\"component_size\", color=\"factor(diameter)\"),\n",
    "    )\n",
    "    + geom_boxplot()\n",
    "    + geom_point()\n",
    "    + labs(x=\"Network Size (n)\", y=\"Diameter\", title=\"Network Diameter vs Size\")\n",
    "    + theme_minimal()\n",
    "    + theme(legend_position=\"none\")\n",
    ")\n",
    "\n",
    "plot.save(\"figures/diameter_vs_size.png\")\n",
    "\n",
    "# Plot mean geodesic distance vs network size\n",
    "plot = (\n",
    "    ggplot(\n",
    "        results_df,\n",
    "        aes(x=\"mean_geodesic\", y=\"component_size\", color=\"factor(mean_geodesic)\"),\n",
    "    )\n",
    "    + geom_point()\n",
    "    + labs(\n",
    "        x=\"Network Size (n)\",\n",
    "        y=\"Mean Geodesic Distance\",\n",
    "        title=\"Mean Geodesic Distance vs Size\",\n",
    "    )\n",
    "    + theme_minimal()\n",
    "    + theme(legend_position=\"none\")\n",
    ")\n",
    "plot.save(\"figures/mean_geodesic_distance_vs_size.png\")"
   ]
  }
 ],
 "metadata": {
  "kernelspec": {
   "display_name": "networks",
   "language": "python",
   "name": "python3"
  },
  "language_info": {
   "codemirror_mode": {
    "name": "ipython",
    "version": 3
   },
   "file_extension": ".py",
   "mimetype": "text/x-python",
   "name": "python",
   "nbconvert_exporter": "python",
   "pygments_lexer": "ipython3",
   "version": "3.12.8"
  }
 },
 "nbformat": 4,
 "nbformat_minor": 2
}
